{
 "cells": [
  {
   "metadata": {
    "collapsed": true,
    "ExecuteTime": {
     "end_time": "2025-03-20T09:32:38.181738Z",
     "start_time": "2025-03-20T09:32:38.172311Z"
    }
   },
   "cell_type": "code",
   "source": [
    "import numpy as np\n",
    "A = np.array([[3, 1],\n",
    "              [0, 10],\n",
    "              [4, -2]])\n",
    "\n",
    "B = np.array([[4, 5],\n",
    "              [-3, 1],\n",
    "              [0, 9]])\n",
    "print (A)\n",
    "print (B)\n"
   ],
   "id": "initial_id",
   "outputs": [
    {
     "name": "stdout",
     "output_type": "stream",
     "text": [
      "[[ 3  1]\n",
      " [ 0 10]\n",
      " [ 4 -2]]\n",
      "[[ 4  5]\n",
      " [-3  1]\n",
      " [ 0  9]]\n"
     ]
    }
   ],
   "execution_count": 110
  },
  {
   "metadata": {
    "ExecuteTime": {
     "end_time": "2025-03-20T09:32:38.211905Z",
     "start_time": "2025-03-20T09:32:38.204413Z"
    }
   },
   "cell_type": "code",
   "source": "print(A[2, 1])",
   "id": "6ff9873bb7e0e9ef",
   "outputs": [
    {
     "name": "stdout",
     "output_type": "stream",
     "text": [
      "-2\n"
     ]
    }
   ],
   "execution_count": 111
  },
  {
   "metadata": {
    "ExecuteTime": {
     "end_time": "2025-03-20T09:32:38.250984Z",
     "start_time": "2025-03-20T09:32:38.245035Z"
    }
   },
   "cell_type": "code",
   "source": "10*A",
   "id": "5e47f6240f10a373",
   "outputs": [
    {
     "data": {
      "text/plain": [
       "array([[ 30,  10],\n",
       "       [  0, 100],\n",
       "       [ 40, -20]])"
      ]
     },
     "execution_count": 112,
     "metadata": {},
     "output_type": "execute_result"
    }
   ],
   "execution_count": 112
  },
  {
   "metadata": {
    "ExecuteTime": {
     "end_time": "2025-03-20T09:32:38.341566Z",
     "start_time": "2025-03-20T09:32:38.330414Z"
    }
   },
   "cell_type": "code",
   "source": "A + B",
   "id": "5b764c334adcb530",
   "outputs": [
    {
     "data": {
      "text/plain": [
       "array([[ 7,  6],\n",
       "       [-3, 11],\n",
       "       [ 4,  7]])"
      ]
     },
     "execution_count": 113,
     "metadata": {},
     "output_type": "execute_result"
    }
   ],
   "execution_count": 113
  },
  {
   "metadata": {
    "ExecuteTime": {
     "end_time": "2025-03-20T09:32:38.455909Z",
     "start_time": "2025-03-20T09:32:38.447637Z"
    }
   },
   "cell_type": "code",
   "source": [
    "A = np.array([[3, 1],\n",
    "              [0, 10],\n",
    "              [4, -2]])\n",
    "\n",
    "C = np.array([[10],\n",
    "             [2],\n",
    "              [9]])\n",
    "\n",
    "A + C"
   ],
   "id": "5eb3e9967fa80531",
   "outputs": [
    {
     "data": {
      "text/plain": [
       "array([[13, 11],\n",
       "       [ 2, 12],\n",
       "       [13,  7]])"
      ]
     },
     "execution_count": 114,
     "metadata": {},
     "output_type": "execute_result"
    }
   ],
   "execution_count": 114
  },
  {
   "metadata": {
    "ExecuteTime": {
     "end_time": "2025-03-20T09:32:38.616953Z",
     "start_time": "2025-03-20T09:32:38.610625Z"
    }
   },
   "cell_type": "code",
   "source": [
    "A = np.array([[2, 1],\n",
    "                [3, 0],\n",
    "                [5, 4]])\n",
    "\n",
    "B = np.array([[2, 4],\n",
    "                [-1, 5]])\n",
    "\n",
    "print(A)\n",
    "print(B)"
   ],
   "id": "98ec2359963b3fff",
   "outputs": [
    {
     "name": "stdout",
     "output_type": "stream",
     "text": [
      "[[2 1]\n",
      " [3 0]\n",
      " [5 4]]\n",
      "[[ 2  4]\n",
      " [-1  5]]\n"
     ]
    }
   ],
   "execution_count": 115
  },
  {
   "metadata": {},
   "cell_type": "markdown",
   "source": [
    "# 2 * 2 + 1 * (-1) , 2 * 4 + 1 * 5\n",
    "# 3 * 2 + 0 * (-1) , 3 * 4 + 0 * 5\n",
    "# 5 * 2 + 4 * (-1) , 5 * 4 + 4 * 5\n",
    "\n",
    "voi laskea joko:\n",
    "- np.dot(A, B)\n",
    "- A @ B\n",
    "- A.dot(B).dot(B)"
   ],
   "id": "d4ba96ab7569675"
  },
  {
   "metadata": {
    "ExecuteTime": {
     "end_time": "2025-03-20T09:32:38.750789Z",
     "start_time": "2025-03-20T09:32:38.732644Z"
    }
   },
   "cell_type": "code",
   "source": [
    "A = np.array([[2, 1],\n",
    "                [3, 0],\n",
    "                [5, 4]])\n",
    "\n",
    "B = np.array([[2, 4],\n",
    "                [-1, 5]])\n",
    "\n",
    "np.dot(A, B)\n"
   ],
   "id": "502c53eaeac9ff2f",
   "outputs": [
    {
     "data": {
      "text/plain": [
       "array([[ 3, 13],\n",
       "       [ 6, 12],\n",
       "       [ 6, 40]])"
      ]
     },
     "execution_count": 116,
     "metadata": {},
     "output_type": "execute_result"
    }
   ],
   "execution_count": 116
  },
  {
   "metadata": {
    "ExecuteTime": {
     "end_time": "2025-03-20T09:32:39.034736Z",
     "start_time": "2025-03-20T09:32:39.026818Z"
    }
   },
   "cell_type": "code",
   "source": "A.dot(B).dot(B)",
   "id": "ef85b075adae0b1f",
   "outputs": [
    {
     "data": {
      "text/plain": [
       "array([[ -7,  77],\n",
       "       [  0,  84],\n",
       "       [-28, 224]])"
      ]
     },
     "execution_count": 117,
     "metadata": {},
     "output_type": "execute_result"
    }
   ],
   "execution_count": 117
  },
  {
   "metadata": {},
   "cell_type": "markdown",
   "source": [
    "Matriisin ( A ) transpoosi (potenssi ( T )) tarkoittaa matriisin ( A ) rivien ja sarakkeiden vaihtamista keskenään. Voit laskea matriisin ( A ) transpoosin käyttämällä NumPy-kirjaston transpose-metodia tai .T-attribuuttia.\n",
    "\n",
    "- Esimerkki"
   ],
   "id": "db5602b1e6dbe8e"
  },
  {
   "metadata": {
    "ExecuteTime": {
     "end_time": "2025-03-20T09:32:39.138627Z",
     "start_time": "2025-03-20T09:32:39.133336Z"
    }
   },
   "cell_type": "code",
   "source": [
    "A = np.array([[2, 1],\n",
    "              [3, 0],\n",
    "              [5, 4]])\n",
    "\n",
    "A_T = A.T\n",
    "print(A_T)"
   ],
   "id": "3d525a6de605ced8",
   "outputs": [
    {
     "name": "stdout",
     "output_type": "stream",
     "text": [
      "[[2 3 5]\n",
      " [1 0 4]]\n"
     ]
    }
   ],
   "execution_count": 118
  },
  {
   "metadata": {
    "ExecuteTime": {
     "end_time": "2025-03-20T09:32:39.387391Z",
     "start_time": "2025-03-20T09:32:39.378101Z"
    }
   },
   "cell_type": "code",
   "source": "np.transpose(A)",
   "id": "2e0987bd4bae1d5f",
   "outputs": [
    {
     "data": {
      "text/plain": [
       "array([[2, 3, 5],\n",
       "       [1, 0, 4]])"
      ]
     },
     "execution_count": 119,
     "metadata": {},
     "output_type": "execute_result"
    }
   ],
   "execution_count": 119
  },
  {
   "metadata": {
    "ExecuteTime": {
     "end_time": "2025-03-20T09:32:39.519279Z",
     "start_time": "2025-03-20T09:32:39.514966Z"
    }
   },
   "cell_type": "code",
   "source": "A.T",
   "id": "86917ce6e4946727",
   "outputs": [
    {
     "data": {
      "text/plain": [
       "array([[2, 3, 5],\n",
       "       [1, 0, 4]])"
      ]
     },
     "execution_count": 120,
     "metadata": {},
     "output_type": "execute_result"
    }
   ],
   "execution_count": 120
  },
  {
   "metadata": {
    "ExecuteTime": {
     "end_time": "2025-03-20T09:32:39.649099Z",
     "start_time": "2025-03-20T09:32:39.643375Z"
    }
   },
   "cell_type": "code",
   "source": "A.shape",
   "id": "de4c7c557441882a",
   "outputs": [
    {
     "data": {
      "text/plain": [
       "(3, 2)"
      ]
     },
     "execution_count": 121,
     "metadata": {},
     "output_type": "execute_result"
    }
   ],
   "execution_count": 121
  },
  {
   "metadata": {
    "ExecuteTime": {
     "end_time": "2025-03-20T09:32:39.805947Z",
     "start_time": "2025-03-20T09:32:39.788172Z"
    }
   },
   "cell_type": "code",
   "source": "A.T.shape",
   "id": "7849b043e0d9ff0b",
   "outputs": [
    {
     "data": {
      "text/plain": [
       "(2, 3)"
      ]
     },
     "execution_count": 122,
     "metadata": {},
     "output_type": "execute_result"
    }
   ],
   "execution_count": 122
  }
 ],
 "metadata": {
  "kernelspec": {
   "display_name": "Python 3",
   "language": "python",
   "name": "python3"
  },
  "language_info": {
   "codemirror_mode": {
    "name": "ipython",
    "version": 2
   },
   "file_extension": ".py",
   "mimetype": "text/x-python",
   "name": "python",
   "nbconvert_exporter": "python",
   "pygments_lexer": "ipython2",
   "version": "2.7.6"
  }
 },
 "nbformat": 4,
 "nbformat_minor": 5
}
